{
  "nbformat": 4,
  "nbformat_minor": 0,
  "metadata": {
    "colab": {
      "provenance": [],
      "authorship_tag": "ABX9TyPYCFrijwlxMJ6LCDtMkSJO",
      "include_colab_link": true
    },
    "kernelspec": {
      "name": "python3",
      "display_name": "Python 3"
    },
    "language_info": {
      "name": "python"
    }
  },
  "cells": [
    {
      "cell_type": "markdown",
      "metadata": {
        "id": "view-in-github",
        "colab_type": "text"
      },
      "source": [
        "<a href=\"https://colab.research.google.com/github/takara45/sns_application/blob/master/baba_class.ipynb\" target=\"_parent\"><img src=\"https://colab.research.google.com/assets/colab-badge.svg\" alt=\"Open In Colab\"/></a>"
      ]
    },
    {
      "cell_type": "code",
      "source": [
        "import random\n",
        "\n",
        "class Dealer():\n",
        "  def __init__(self):\n",
        "    self.initial_deck = self.create_initial_deck()\n",
        "\n",
        "  def create_initial_deck(self) -> list: \n",
        "    initial_deck = []\n",
        "    for n in range(1,14):\n",
        "      if n == 1:\n",
        "        egara = 'A'\n",
        "      elif n == 11:\n",
        "        egara = 'J'\n",
        "      elif n == 12:\n",
        "        egara = 'Q'\n",
        "      elif n == 13:\n",
        "        egara = 'K'\n",
        "      else:\n",
        "        egara = str(n)\n",
        "      initial_deck.append(egara)\n",
        "    initial_deck = initial_deck * 4\n",
        "    initial_deck.append('X')\n",
        "    return initial_deck\n",
        "\n",
        "  def initial_deal(self, *args):\n",
        "    players = list(args)\n",
        "    random.shuffle(self.initial_deck)\n",
        "    q, mod = divmod(len(self.initial_deck), len(players))\n",
        "    for i in range(len(players)):\n",
        "      slice_n = q\n",
        "      if i < mod:\n",
        "        slice_n = q + 1\n",
        "      players[i].deck = self.initial_deck[:slice_n]\n",
        "      del self.initial_deck[:slice_n]\n",
        "    return players\n",
        "\n",
        "  def initial_putdown(self, deck):\n",
        "\n",
        "    while len(set(deck)) != len(deck):\n",
        "      popped_card = deck.pop(0)\n",
        "      if popped_card in deck:\n",
        "        deck.remove(popped_card)\n",
        "      else:\n",
        "        deck.append(popped_card)\n",
        "    return deck"
      ],
      "metadata": {
        "id": "ykqqsiHiiujF"
      },
      "execution_count": 12,
      "outputs": []
    },
    {
      "cell_type": "code",
      "execution_count": 13,
      "metadata": {
        "id": "tiCf0IQTKXP9"
      },
      "outputs": [],
      "source": [
        "class Player():\n",
        "  def __init__(self, name, is_auto=True):\n",
        "    self.name = name\n",
        "    self.deck = []\n",
        "    self.is_win = False\n",
        "    self.is_auto = is_auto\n",
        "\n",
        "  def __repr__(self):\n",
        "    return self.name + 'Object'\n",
        "\n",
        "player1 = Player('A')"
      ]
    },
    {
      "cell_type": "code",
      "source": [
        "class Babanuki():\n",
        "\n",
        "  def __init__(self, players):\n",
        "    self.players = players\n",
        "\n",
        "  def create_turn_index(self, passer_i, taker_i):\n",
        "    passer_i = taker_i\n",
        "    taker_i = taker_i + 1\n",
        "    if passer_i >= len(self.players):\n",
        "      passer_i = 0\n",
        "      taker_i = 1\n",
        "    elif taker_i >= len(self.players):\n",
        "      taker_i = 0\n",
        "    return passer_i, taker_i\n",
        "\n",
        "  def select(self, passer, taker):\n",
        "    if taker.is_auto:\n",
        "      select_index = random.randrange(len(passer.deck))\n",
        "    else:\n",
        "      while True:\n",
        "        text = ''\n",
        "        for n in range(len(passer.deck)):\n",
        "          text += f'[{n+1}]'\n",
        "        select_index = input(f'Select card of {passer.name} from {text}: ')\n",
        "        try:\n",
        "          select_index = int(select_index) - 1\n",
        "          if select_index < 0 or select_index >= len(passer.deck):\n",
        "            raise IndexError()\n",
        "        except ValueError:\n",
        "          print('\\t*please input integer')\n",
        "        except IndexError:\n",
        "          print('\\t*please input right number')\n",
        "        else:\n",
        "          break\n",
        "      print(f'\\tYou choose {select_index+1}.')\n",
        "\n",
        "    selected_card = passer.deck.pop(select_index)\n",
        "    return selected_card\n",
        "\n",
        "  def putdown_or_add(self, selected_card, taker):\n",
        "    try:\n",
        "      taker.deck.remove(selected_card)\n",
        "    except Exception:\n",
        "      taker.deck.append(selected_card)\n",
        "\n",
        "  def run(self):\n",
        "    passer_i = -1\n",
        "    taker_i = 0\n",
        "    loop = 0\n",
        "    rank = []\n",
        "\n",
        "    print('Game Start')\n",
        "\n",
        "    while True:\n",
        "      loop += 1\n",
        "      print(f'\\n -- TURN {loop} -- ')\n",
        "\n",
        "      passer_i, taker_i = self.create_turn_index(passer_i, taker_i)\n",
        "\n",
        "      selected_card = self.select(self.players[passer_i], self.players[taker_i])\n",
        "\n",
        "      self.putdown_or_add(selected_card, self.players[taker_i])\n",
        "\n",
        "      print(f'\\tCurrent card number: ', end='')\n",
        "      for i in range(len(self.players)):\n",
        "        print(f'{self.players[i].name}:{len(self.players[i].deck)} ', end='')\n",
        "        if len(self.players[i].deck) == 0:\n",
        "          print('*WIN', end='')\n",
        "          rank.append(self.players.pop(i))\n",
        "          break\n",
        "\n",
        "      if len(self.players) < 2:\n",
        "        break\n",
        "\n",
        "    rank.append(self.players.pop())\n",
        "\n",
        "    print('\\n\\nGAME END\\n')\n",
        "    for i in range(len(rank)):\n",
        "      print(f'RANK {i+1}: {rank[i].name}')"
      ],
      "metadata": {
        "id": "zlXIeZyCMihk"
      },
      "execution_count": 20,
      "outputs": []
    },
    {
      "cell_type": "code",
      "source": [
        "dealer = Dealer()\n",
        "\n",
        "player1 = Player('A', is_auto=False)\n",
        "player2 = Player('B')\n",
        "player3 = Player('C')\n",
        "\n",
        "players = dealer.initial_deal(player1, player2, player3)\n",
        "\n",
        "for i in range(len(players)):\n",
        "  players[i].deck = dealer.initial_putdown(players[i].deck)\n",
        "\n",
        "babanuki = Babanuki(players)\n",
        "babanuki.run()"
      ],
      "metadata": {
        "id": "CGBj65dn2l-r",
        "colab": {
          "base_uri": "https://localhost:8080/"
        },
        "outputId": "16114b27-9b31-47ce-8ed3-4a67de46b0d6"
      },
      "execution_count": 21,
      "outputs": [
        {
          "output_type": "stream",
          "name": "stdout",
          "text": [
            "Game Start\n",
            "\n",
            " -- TURN 1 -- \n",
            "\tCurrent card number: A:7 B:5 C:9 \n",
            " -- TURN 2 -- \n",
            "\tCurrent card number: A:7 B:4 C:8 \n",
            " -- TURN 3 -- \n",
            "Select card of C from [1][2][3][4][5][6][7][8]: 5\n",
            "\tYou choose 5.\n",
            "\tCurrent card number: A:6 B:4 C:7 \n",
            " -- TURN 4 -- \n",
            "\tCurrent card number: A:5 B:5 C:7 \n",
            " -- TURN 5 -- \n",
            "\tCurrent card number: A:5 B:4 C:8 \n",
            " -- TURN 6 -- \n",
            "Select card of C from [1][2][3][4][5][6][7][8]: 4\n",
            "\tYou choose 4.\n",
            "\tCurrent card number: A:4 B:4 C:7 \n",
            " -- TURN 7 -- \n",
            "\tCurrent card number: A:3 B:5 C:7 \n",
            " -- TURN 8 -- \n",
            "\tCurrent card number: A:3 B:4 C:6 \n",
            " -- TURN 9 -- \n",
            "Select card of C from [1][2][3][4][5][6]: 2\n",
            "\tYou choose 2.\n",
            "\tCurrent card number: A:2 B:4 C:5 \n",
            " -- TURN 10 -- \n",
            "\tCurrent card number: A:1 B:3 C:5 \n",
            " -- TURN 11 -- \n",
            "\tCurrent card number: A:1 B:2 C:4 \n",
            " -- TURN 12 -- \n",
            "Select card of C from [1][2][3][4]: 4\n",
            "\tYou choose 4.\n",
            "\tCurrent card number: A:2 B:2 C:3 \n",
            " -- TURN 13 -- \n",
            "\tCurrent card number: A:1 B:3 C:3 \n",
            " -- TURN 14 -- \n",
            "\tCurrent card number: A:1 B:2 C:2 \n",
            " -- TURN 15 -- \n",
            "Select card of C from [1][2]: 12\n",
            "\t*please input right number\n",
            "Select card of C from [1][2]: 1\n",
            "\tYou choose 1.\n",
            "\tCurrent card number: A:2 B:2 C:1 \n",
            " -- TURN 16 -- \n",
            "\tCurrent card number: A:1 B:1 C:1 \n",
            " -- TURN 17 -- \n",
            "\tCurrent card number: A:1 B:0 *WIN\n",
            " -- TURN 18 -- \n",
            "\tCurrent card number: A:0 *WIN\n",
            "\n",
            "GAME END\n",
            "\n",
            "RANK 1: B\n",
            "RANK 2: A\n",
            "RANK 3: C\n"
          ]
        }
      ]
    },
    {
      "cell_type": "code",
      "source": [],
      "metadata": {
        "id": "fGQmXuEr6VGe"
      },
      "execution_count": 7,
      "outputs": []
    },
    {
      "cell_type": "code",
      "source": [],
      "metadata": {
        "id": "YrMg7lAa5Fjq"
      },
      "execution_count": 8,
      "outputs": []
    },
    {
      "cell_type": "code",
      "source": [],
      "metadata": {
        "id": "BDfgUoxgbEZh"
      },
      "execution_count": 9,
      "outputs": []
    },
    {
      "cell_type": "code",
      "source": [],
      "metadata": {
        "id": "Ae85x9yBXcm8"
      },
      "execution_count": 10,
      "outputs": []
    },
    {
      "cell_type": "code",
      "source": [
        "initial_deck = create_initial_deck()\n",
        "\n",
        "player1 = create_player('A', is_auto=False)\n",
        "player2 = create_player('B', is_auto=True)\n",
        "player3 = create_player('C', is_auto=True)\n",
        "\n",
        "players = initial_deal(initial_deck, player1, player2, player3)\n",
        "\n",
        "for i in range(len(players)):\n",
        "  players[i][\"deck\"] = initial_putdown(players[i][\"deck\"])\n",
        "\n",
        "run(players)"
      ],
      "metadata": {
        "colab": {
          "base_uri": "https://localhost:8080/",
          "height": 465
        },
        "id": "CHHbav3G5E7b",
        "outputId": "84b43e76-6d3d-48cd-fcd4-ec081ec5c519"
      },
      "execution_count": 11,
      "outputs": [
        {
          "output_type": "stream",
          "name": "stdout",
          "text": [
            "\n",
            " -- TURN 1 -- \n",
            "\tCurrent card number: A:7 B:7 C:7 \n",
            " -- TURN 2 -- \n",
            "\tCurrent card number: A:7 B:6 C:8 \n",
            " -- TURN 3 -- \n"
          ]
        },
        {
          "output_type": "error",
          "ename": "KeyboardInterrupt",
          "evalue": "ignored",
          "traceback": [
            "\u001b[0;31m---------------------------------------------------------------------------\u001b[0m",
            "\u001b[0;31mKeyboardInterrupt\u001b[0m                         Traceback (most recent call last)",
            "\u001b[0;32m<ipython-input-11-485cf0f06392>\u001b[0m in \u001b[0;36m<module>\u001b[0;34m\u001b[0m\n\u001b[1;32m     10\u001b[0m   \u001b[0mplayers\u001b[0m\u001b[0;34m[\u001b[0m\u001b[0mi\u001b[0m\u001b[0;34m]\u001b[0m\u001b[0;34m[\u001b[0m\u001b[0;34m\"deck\"\u001b[0m\u001b[0;34m]\u001b[0m \u001b[0;34m=\u001b[0m \u001b[0minitial_putdown\u001b[0m\u001b[0;34m(\u001b[0m\u001b[0mplayers\u001b[0m\u001b[0;34m[\u001b[0m\u001b[0mi\u001b[0m\u001b[0;34m]\u001b[0m\u001b[0;34m[\u001b[0m\u001b[0;34m\"deck\"\u001b[0m\u001b[0;34m]\u001b[0m\u001b[0;34m)\u001b[0m\u001b[0;34m\u001b[0m\u001b[0;34m\u001b[0m\u001b[0m\n\u001b[1;32m     11\u001b[0m \u001b[0;34m\u001b[0m\u001b[0m\n\u001b[0;32m---> 12\u001b[0;31m \u001b[0mrun\u001b[0m\u001b[0;34m(\u001b[0m\u001b[0mplayers\u001b[0m\u001b[0;34m)\u001b[0m\u001b[0;34m\u001b[0m\u001b[0;34m\u001b[0m\u001b[0m\n\u001b[0m",
            "\u001b[0;32m<ipython-input-10-9d3283ab7ad4>\u001b[0m in \u001b[0;36mrun\u001b[0;34m(players)\u001b[0m\n\u001b[1;32m     11\u001b[0m     \u001b[0mpasser_i\u001b[0m\u001b[0;34m,\u001b[0m \u001b[0mtaker_i\u001b[0m \u001b[0;34m=\u001b[0m \u001b[0mcreate_turn_index\u001b[0m\u001b[0;34m(\u001b[0m\u001b[0mpasser_i\u001b[0m\u001b[0;34m,\u001b[0m \u001b[0mtaker_i\u001b[0m\u001b[0;34m,\u001b[0m \u001b[0mplayers\u001b[0m\u001b[0;34m)\u001b[0m\u001b[0;34m\u001b[0m\u001b[0;34m\u001b[0m\u001b[0m\n\u001b[1;32m     12\u001b[0m \u001b[0;34m\u001b[0m\u001b[0m\n\u001b[0;32m---> 13\u001b[0;31m     \u001b[0mselected_card\u001b[0m \u001b[0;34m=\u001b[0m \u001b[0mselect\u001b[0m\u001b[0;34m(\u001b[0m\u001b[0mplayers\u001b[0m\u001b[0;34m[\u001b[0m\u001b[0mpasser_i\u001b[0m\u001b[0;34m]\u001b[0m\u001b[0;34m,\u001b[0m \u001b[0mplayers\u001b[0m\u001b[0;34m[\u001b[0m\u001b[0mtaker_i\u001b[0m\u001b[0;34m]\u001b[0m\u001b[0;34m)\u001b[0m\u001b[0;34m\u001b[0m\u001b[0;34m\u001b[0m\u001b[0m\n\u001b[0m\u001b[1;32m     14\u001b[0m \u001b[0;34m\u001b[0m\u001b[0m\n\u001b[1;32m     15\u001b[0m     \u001b[0mputdown_or_add\u001b[0m\u001b[0;34m(\u001b[0m\u001b[0mselected_card\u001b[0m\u001b[0;34m,\u001b[0m \u001b[0mplayers\u001b[0m\u001b[0;34m[\u001b[0m\u001b[0mtaker_i\u001b[0m\u001b[0;34m]\u001b[0m\u001b[0;34m)\u001b[0m\u001b[0;34m\u001b[0m\u001b[0;34m\u001b[0m\u001b[0m\n",
            "\u001b[0;32m<ipython-input-8-176d2379b549>\u001b[0m in \u001b[0;36mselect\u001b[0;34m(passer, taker)\u001b[0m\n\u001b[1;32m      7\u001b[0m       \u001b[0;32mfor\u001b[0m \u001b[0mn\u001b[0m \u001b[0;32min\u001b[0m \u001b[0mrange\u001b[0m\u001b[0;34m(\u001b[0m\u001b[0mlen\u001b[0m\u001b[0;34m(\u001b[0m\u001b[0mpasser\u001b[0m\u001b[0;34m[\u001b[0m\u001b[0;34m\"deck\"\u001b[0m\u001b[0;34m]\u001b[0m\u001b[0;34m)\u001b[0m\u001b[0;34m)\u001b[0m\u001b[0;34m:\u001b[0m\u001b[0;34m\u001b[0m\u001b[0;34m\u001b[0m\u001b[0m\n\u001b[1;32m      8\u001b[0m         \u001b[0mtext\u001b[0m \u001b[0;34m+=\u001b[0m \u001b[0;34mf'[{n+1}]'\u001b[0m\u001b[0;34m\u001b[0m\u001b[0;34m\u001b[0m\u001b[0m\n\u001b[0;32m----> 9\u001b[0;31m       \u001b[0mselect_index\u001b[0m \u001b[0;34m=\u001b[0m \u001b[0minput\u001b[0m\u001b[0;34m(\u001b[0m\u001b[0;34mf'Select card of {passer[\"name\"]} from {text}: '\u001b[0m\u001b[0;34m)\u001b[0m\u001b[0;34m\u001b[0m\u001b[0;34m\u001b[0m\u001b[0m\n\u001b[0m\u001b[1;32m     10\u001b[0m       \u001b[0;32mtry\u001b[0m\u001b[0;34m:\u001b[0m\u001b[0;34m\u001b[0m\u001b[0;34m\u001b[0m\u001b[0m\n\u001b[1;32m     11\u001b[0m         \u001b[0mselect_index\u001b[0m \u001b[0;34m=\u001b[0m \u001b[0mint\u001b[0m\u001b[0;34m(\u001b[0m\u001b[0mselect_index\u001b[0m\u001b[0;34m)\u001b[0m \u001b[0;34m-\u001b[0m \u001b[0;36m1\u001b[0m\u001b[0;34m\u001b[0m\u001b[0;34m\u001b[0m\u001b[0m\n",
            "\u001b[0;32m/usr/local/lib/python3.8/dist-packages/ipykernel/kernelbase.py\u001b[0m in \u001b[0;36mraw_input\u001b[0;34m(self, prompt)\u001b[0m\n\u001b[1;32m    858\u001b[0m                 \u001b[0;34m\"raw_input was called, but this frontend does not support input requests.\"\u001b[0m\u001b[0;34m\u001b[0m\u001b[0;34m\u001b[0m\u001b[0m\n\u001b[1;32m    859\u001b[0m             )\n\u001b[0;32m--> 860\u001b[0;31m         return self._input_request(str(prompt),\n\u001b[0m\u001b[1;32m    861\u001b[0m             \u001b[0mself\u001b[0m\u001b[0;34m.\u001b[0m\u001b[0m_parent_ident\u001b[0m\u001b[0;34m,\u001b[0m\u001b[0;34m\u001b[0m\u001b[0;34m\u001b[0m\u001b[0m\n\u001b[1;32m    862\u001b[0m             \u001b[0mself\u001b[0m\u001b[0;34m.\u001b[0m\u001b[0m_parent_header\u001b[0m\u001b[0;34m,\u001b[0m\u001b[0;34m\u001b[0m\u001b[0;34m\u001b[0m\u001b[0m\n",
            "\u001b[0;32m/usr/local/lib/python3.8/dist-packages/ipykernel/kernelbase.py\u001b[0m in \u001b[0;36m_input_request\u001b[0;34m(self, prompt, ident, parent, password)\u001b[0m\n\u001b[1;32m    902\u001b[0m             \u001b[0;32mexcept\u001b[0m \u001b[0mKeyboardInterrupt\u001b[0m\u001b[0;34m:\u001b[0m\u001b[0;34m\u001b[0m\u001b[0;34m\u001b[0m\u001b[0m\n\u001b[1;32m    903\u001b[0m                 \u001b[0;31m# re-raise KeyboardInterrupt, to truncate traceback\u001b[0m\u001b[0;34m\u001b[0m\u001b[0;34m\u001b[0m\u001b[0;34m\u001b[0m\u001b[0m\n\u001b[0;32m--> 904\u001b[0;31m                 \u001b[0;32mraise\u001b[0m \u001b[0mKeyboardInterrupt\u001b[0m\u001b[0;34m(\u001b[0m\u001b[0;34m\"Interrupted by user\"\u001b[0m\u001b[0;34m)\u001b[0m \u001b[0;32mfrom\u001b[0m \u001b[0;32mNone\u001b[0m\u001b[0;34m\u001b[0m\u001b[0;34m\u001b[0m\u001b[0m\n\u001b[0m\u001b[1;32m    905\u001b[0m             \u001b[0;32mexcept\u001b[0m \u001b[0mException\u001b[0m \u001b[0;32mas\u001b[0m \u001b[0me\u001b[0m\u001b[0;34m:\u001b[0m\u001b[0;34m\u001b[0m\u001b[0;34m\u001b[0m\u001b[0m\n\u001b[1;32m    906\u001b[0m                 \u001b[0mself\u001b[0m\u001b[0;34m.\u001b[0m\u001b[0mlog\u001b[0m\u001b[0;34m.\u001b[0m\u001b[0mwarning\u001b[0m\u001b[0;34m(\u001b[0m\u001b[0;34m\"Invalid Message:\"\u001b[0m\u001b[0;34m,\u001b[0m \u001b[0mexc_info\u001b[0m\u001b[0;34m=\u001b[0m\u001b[0;32mTrue\u001b[0m\u001b[0;34m)\u001b[0m\u001b[0;34m\u001b[0m\u001b[0;34m\u001b[0m\u001b[0m\n",
            "\u001b[0;31mKeyboardInterrupt\u001b[0m: Interrupted by user"
          ]
        }
      ]
    },
    {
      "cell_type": "code",
      "source": [],
      "metadata": {
        "id": "6U2KlqlEhGZx"
      },
      "execution_count": null,
      "outputs": []
    }
  ]
}